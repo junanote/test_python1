{
  "nbformat": 4,
  "nbformat_minor": 0,
  "metadata": {
    "colab": {
      "name": "210707 -1. python_language.ipynb",
      "provenance": [],
      "collapsed_sections": [],
      "authorship_tag": "ABX9TyOcugnVoQUUSKreA2PzJWIp",
      "include_colab_link": true
    },
    "kernelspec": {
      "name": "python3",
      "display_name": "Python 3"
    },
    "language_info": {
      "name": "python"
    }
  },
  "cells": [
    {
      "cell_type": "markdown",
      "metadata": {
        "id": "view-in-github",
        "colab_type": "text"
      },
      "source": [
        "<a href=\"https://colab.research.google.com/github/junanote/test_python1/blob/master/210707_1_python_language.ipynb\" target=\"_parent\"><img src=\"https://colab.research.google.com/assets/colab-badge.svg\" alt=\"Open In Colab\"/></a>"
      ]
    },
    {
      "cell_type": "code",
      "metadata": {
        "id": "KmKIMjKCTkOw"
      },
      "source": [
        "import numpy as np"
      ],
      "execution_count": 25,
      "outputs": []
    },
    {
      "cell_type": "code",
      "metadata": {
        "colab": {
          "base_uri": "https://localhost:8080/",
          "height": 34
        },
        "id": "VvublEVjVbMC",
        "outputId": "331ee465-5bd4-4ddd-8dbb-858f727814eb"
      },
      "source": [
        "np.__version__\n"
      ],
      "execution_count": 26,
      "outputs": [
        {
          "output_type": "execute_result",
          "data": {
            "application/vnd.google.colaboratory.intrinsic+json": {
              "type": "string"
            },
            "text/plain": [
              "'1.19.5'"
            ]
          },
          "metadata": {
            "tags": []
          },
          "execution_count": 26
        }
      ]
    },
    {
      "cell_type": "code",
      "metadata": {
        "id": "nGveym2J2pXv"
      },
      "source": [
        "def onehotcylinder(cylinders):\n",
        "    if cylinders == 3:\n",
        "      cylinder = np.array([1,0,0,0,0])    #넘파이로 만듬 \n",
        "    elif cylinders == 4:\n",
        "      cylinder = np.array([0,1,0,0,0])\n",
        "    elif cylinders == 5:\n",
        "      cylinder = np.array([0,0,1,0,0])\n",
        "    elif cylinders == 6:\n",
        "      cylinder = np.array([0,0,0,1,0])\n",
        "    else : # 8\n",
        "      cylinder = np.array([0,0,0,0,1])\n",
        "    return cylinder"
      ],
      "execution_count": 87,
      "outputs": []
    },
    {
      "cell_type": "code",
      "metadata": {
        "id": "hUJ_6CksWJdm"
      },
      "source": [
        "displacement = 307.0\n",
        "horsepower =130.0\n",
        "weight = 3504.0\n",
        "accel = 12.0\n",
        "cylinders = 8\n",
        "origin = 1 \n",
        "\n",
        "## if cylinders = 8, origin = 1   --> onehot encoding\n",
        "import numpy as np\n",
        "if cylinders == 3:\n",
        "  cylinder = np.array([1,0,0,0,0])    #넘파이로 만듬 \n",
        "elif cylinders == 4:\n",
        "  cylinder = np.array([0,1,0,0,0])\n",
        "elif cylinders == 5:\n",
        "  cylinder = np.array([0,0,1,0,0])\n",
        "elif cylinders == 6:\n",
        "  cylinder = np.array([0,0,0,1,0])\n",
        "else : # 8\n",
        "  cylinder = np.array([0,0,0,0,1])\n",
        "\n",
        "x_continus = np.array([displacement, horsepower, weight, accel])\n",
        "# cylinder = np.array([0,0,0,0,1])\n",
        "\n",
        "cylinder = np.array([0,0,0,0,1]) # 8\n",
        "org = np.array([1,0,0]) # 1"
      ],
      "execution_count": 39,
      "outputs": []
    },
    {
      "cell_type": "code",
      "metadata": {
        "colab": {
          "base_uri": "https://localhost:8080/"
        },
        "id": "d-1IkR-wXUCa",
        "outputId": "ca157728-2ebb-4b54-ab94-d5eecaebabe4"
      },
      "source": [
        "type(x_continus), type(cylinder), type(org)"
      ],
      "execution_count": 28,
      "outputs": [
        {
          "output_type": "execute_result",
          "data": {
            "text/plain": [
              "(numpy.ndarray, numpy.ndarray, numpy.ndarray)"
            ]
          },
          "metadata": {
            "tags": []
          },
          "execution_count": 28
        }
      ]
    },
    {
      "cell_type": "code",
      "metadata": {
        "colab": {
          "base_uri": "https://localhost:8080/"
        },
        "id": "aCcToA9mXgYP",
        "outputId": "bcd179cd-637d-415c-9cd9-112bf9171dda"
      },
      "source": [
        "# np.concatenate((a, b), axis=None)\n",
        "result = np.concatenate((x_continus,cylinder,org), axis=None)\n",
        "result.shape, result"
      ],
      "execution_count": 34,
      "outputs": [
        {
          "output_type": "execute_result",
          "data": {
            "text/plain": [
              "((12,),\n",
              " array([3.070e+02, 1.300e+02, 3.504e+03, 1.200e+01, 0.000e+00, 0.000e+00,\n",
              "        0.000e+00, 0.000e+00, 1.000e+00, 1.000e+00, 0.000e+00, 0.000e+00]))"
            ]
          },
          "metadata": {
            "tags": []
          },
          "execution_count": 34
        }
      ]
    },
    {
      "cell_type": "code",
      "metadata": {
        "colab": {
          "base_uri": "https://localhost:8080/"
        },
        "id": "rY38GS9uZY6r",
        "outputId": "afa7699c-ad91-47ae-9185-a6ef65924454"
      },
      "source": [
        "# [307.0,130.0, 3504.0, 12.0, 0,0,0,0,1]\n",
        "# result.reshape(1,12)\n",
        "result = result.reshape(-1, result.size)\n",
        "result, result.shape"
      ],
      "execution_count": 35,
      "outputs": [
        {
          "output_type": "execute_result",
          "data": {
            "text/plain": [
              "(array([[3.070e+02, 1.300e+02, 3.504e+03, 1.200e+01, 0.000e+00, 0.000e+00,\n",
              "         0.000e+00, 0.000e+00, 1.000e+00, 1.000e+00, 0.000e+00, 0.000e+00]]),\n",
              " (1, 12))"
            ]
          },
          "metadata": {
            "tags": []
          },
          "execution_count": 35
        }
      ]
    },
    {
      "cell_type": "code",
      "metadata": {
        "colab": {
          "base_uri": "https://localhost:8080/"
        },
        "id": "7rPHguTgZ-FR",
        "outputId": "421cb276-4fff-4cc3-f317-1017efd49e56"
      },
      "source": [
        "result"
      ],
      "execution_count": 37,
      "outputs": [
        {
          "output_type": "execute_result",
          "data": {
            "text/plain": [
              "array([[3.070e+02, 1.300e+02, 3.504e+03, 1.200e+01, 0.000e+00, 0.000e+00,\n",
              "        0.000e+00, 0.000e+00, 1.000e+00, 1.000e+00, 0.000e+00, 0.000e+00]])"
            ]
          },
          "metadata": {
            "tags": []
          },
          "execution_count": 37
        }
      ]
    },
    {
      "cell_type": "markdown",
      "metadata": {
        "id": "GedQZwFUip60"
      },
      "source": [
        "# function 이해\n"
      ]
    },
    {
      "cell_type": "code",
      "metadata": {
        "colab": {
          "base_uri": "https://localhost:8080/"
        },
        "id": "hx6f1CylcsRt",
        "outputId": "70a829de-ef06-4112-df14-3a3087bca02f"
      },
      "source": [
        "21 + 14"
      ],
      "execution_count": 42,
      "outputs": [
        {
          "output_type": "execute_result",
          "data": {
            "text/plain": [
              "35"
            ]
          },
          "metadata": {
            "tags": []
          },
          "execution_count": 42
        }
      ]
    },
    {
      "cell_type": "code",
      "metadata": {
        "colab": {
          "base_uri": "https://localhost:8080/"
        },
        "id": "Y8WwpFA_i2p-",
        "outputId": "b69fa27a-e14c-41a6-b52a-b0e0b0574d61"
      },
      "source": [
        "32 + 45"
      ],
      "execution_count": 43,
      "outputs": [
        {
          "output_type": "execute_result",
          "data": {
            "text/plain": [
              "77"
            ]
          },
          "metadata": {
            "tags": []
          },
          "execution_count": 43
        }
      ]
    },
    {
      "cell_type": "code",
      "metadata": {
        "id": "EW3tCoddi53j"
      },
      "source": [
        "def sum():\n",
        "  first = 32\n",
        "  second = 45\n",
        "  result = first + second\n",
        "  result  \n",
        "  return result"
      ],
      "execution_count": 47,
      "outputs": []
    },
    {
      "cell_type": "code",
      "metadata": {
        "colab": {
          "base_uri": "https://localhost:8080/"
        },
        "id": "8hjPcxEQjIrA",
        "outputId": "dea5f057-749a-40aa-dcd7-a2a13176677d"
      },
      "source": [
        "sum()"
      ],
      "execution_count": 48,
      "outputs": [
        {
          "output_type": "execute_result",
          "data": {
            "text/plain": [
              "77"
            ]
          },
          "metadata": {
            "tags": []
          },
          "execution_count": 48
        }
      ]
    },
    {
      "cell_type": "code",
      "metadata": {
        "id": "y0kRpoxynLhb"
      },
      "source": [
        "f01 = 32\n",
        "s02 = 21\n",
        "def sum(f01, s02):    #파라메터 - 외부에서 호출할때 중요한거 순서 (이름은 중요하지 않음, 내부에서는 이름 중요) \n",
        "  first = s02\n",
        "  second = f01\n",
        "  result = first + second\n",
        "  result  \n",
        "  return result"
      ],
      "execution_count": 50,
      "outputs": []
    },
    {
      "cell_type": "code",
      "metadata": {
        "colab": {
          "base_uri": "https://localhost:8080/"
        },
        "id": "Up4bpxlZpO2o",
        "outputId": "fbdcd0dc-c46d-45e4-a0e1-9dd12c5d0d6f"
      },
      "source": [
        "sum(32,21), sum(3,2), sum(21,564)"
      ],
      "execution_count": 54,
      "outputs": [
        {
          "output_type": "execute_result",
          "data": {
            "text/plain": [
              "(53, 5, 585)"
            ]
          },
          "metadata": {
            "tags": []
          },
          "execution_count": 54
        }
      ]
    },
    {
      "cell_type": "code",
      "metadata": {
        "colab": {
          "base_uri": "https://localhost:8080/"
        },
        "id": "PAk24RMKpqd6",
        "outputId": "1fd20a80-0c4a-44d3-e788-e93e165b1472"
      },
      "source": [
        "21 * 32 * 2\n"
      ],
      "execution_count": 55,
      "outputs": [
        {
          "output_type": "execute_result",
          "data": {
            "text/plain": [
              "1344"
            ]
          },
          "metadata": {
            "tags": []
          },
          "execution_count": 55
        }
      ]
    },
    {
      "cell_type": "code",
      "metadata": {
        "colab": {
          "base_uri": "https://localhost:8080/"
        },
        "id": "FfRtywzXtVPG",
        "outputId": "3fef5b60-aa56-4270-da26-3aa0898c2947"
      },
      "source": [
        "31 * 63 * 41"
      ],
      "execution_count": 56,
      "outputs": [
        {
          "output_type": "execute_result",
          "data": {
            "text/plain": [
              "80073"
            ]
          },
          "metadata": {
            "tags": []
          },
          "execution_count": 56
        }
      ]
    },
    {
      "cell_type": "code",
      "metadata": {
        "id": "5ExmyV0WtZzJ"
      },
      "source": [
        "def tim(f01,f02,f03):\n",
        "  first = f01\n",
        "  second =f02\n",
        "  third = f03\n",
        "  result = first * second * third\n",
        "  return result"
      ],
      "execution_count": 88,
      "outputs": []
    },
    {
      "cell_type": "code",
      "metadata": {
        "colab": {
          "base_uri": "https://localhost:8080/"
        },
        "id": "baTq88Vg5SvN",
        "outputId": "4bb33ae9-733e-4a81-b983-f6a4aba4a7fe"
      },
      "source": [
        "tim(21,32,2), tim(31,63,41)"
      ],
      "execution_count": 90,
      "outputs": [
        {
          "output_type": "execute_result",
          "data": {
            "text/plain": [
              "(1344, 80073)"
            ]
          },
          "metadata": {
            "tags": []
          },
          "execution_count": 90
        }
      ]
    },
    {
      "cell_type": "code",
      "metadata": {
        "id": "R5OfyIjmvtp3"
      },
      "source": [
        "#def differencdVars(*var01, *args02)\n",
        "def diffparam(*var_list, **var_dict):\n",
        "  print(var_dict)\n",
        "  result01 = len(var_list)\n",
        "  return result01"
      ],
      "execution_count": 80,
      "outputs": []
    },
    {
      "cell_type": "code",
      "metadata": {
        "colab": {
          "base_uri": "https://localhost:8080/"
        },
        "id": "LjXC-PH6yN1j",
        "outputId": "5118ed16-06ab-4071-a018-cfb9d3bd2f7d"
      },
      "source": [
        " diffparam(1,2,3, a=2, b=3)"
      ],
      "execution_count": 81,
      "outputs": [
        {
          "output_type": "stream",
          "text": [
            "{'a': 2, 'b': 3}\n"
          ],
          "name": "stdout"
        },
        {
          "output_type": "execute_result",
          "data": {
            "text/plain": [
              "3"
            ]
          },
          "metadata": {
            "tags": []
          },
          "execution_count": 81
        }
      ]
    },
    {
      "cell_type": "code",
      "metadata": {
        "colab": {
          "base_uri": "https://localhost:8080/"
        },
        "id": "PAH4mC_Zztw9",
        "outputId": "4cda46bd-9e2f-4c43-edf5-645a2c9cd3b7"
      },
      "source": [
        " diffparam(1,2,3,5,6,  c=2, d=3, a=2, b=3)"
      ],
      "execution_count": 83,
      "outputs": [
        {
          "output_type": "stream",
          "text": [
            "{'c': 2, 'd': 3, 'a': 2, 'b': 3}\n"
          ],
          "name": "stdout"
        },
        {
          "output_type": "execute_result",
          "data": {
            "text/plain": [
              "5"
            ]
          },
          "metadata": {
            "tags": []
          },
          "execution_count": 83
        }
      ]
    },
    {
      "cell_type": "code",
      "metadata": {
        "id": "RXJZL5RO0DUA"
      },
      "source": [
        ""
      ],
      "execution_count": null,
      "outputs": []
    }
  ]
}