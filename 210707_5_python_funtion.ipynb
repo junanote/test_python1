{
  "nbformat": 4,
  "nbformat_minor": 0,
  "metadata": {
    "colab": {
      "name": "210707 -5. python_funtion.ipynb",
      "provenance": [],
      "collapsed_sections": [],
      "authorship_tag": "ABX9TyNllsxXcoZ0oYxg++VpWROA",
      "include_colab_link": true
    },
    "kernelspec": {
      "name": "python3",
      "display_name": "Python 3"
    },
    "language_info": {
      "name": "python"
    }
  },
  "cells": [
    {
      "cell_type": "markdown",
      "metadata": {
        "id": "view-in-github",
        "colab_type": "text"
      },
      "source": [
        "<a href=\"https://colab.research.google.com/github/junanote/test_python1/blob/master/210707_5_python_funtion.ipynb\" target=\"_parent\"><img src=\"https://colab.research.google.com/assets/colab-badge.svg\" alt=\"Open In Colab\"/></a>"
      ]
    },
    {
      "cell_type": "code",
      "metadata": {
        "id": "KmKIMjKCTkOw"
      },
      "source": [
        "import numpy as np"
      ],
      "execution_count": null,
      "outputs": []
    },
    {
      "cell_type": "code",
      "metadata": {
        "colab": {
          "base_uri": "https://localhost:8080/",
          "height": 35
        },
        "id": "VvublEVjVbMC",
        "outputId": "9b22e3d5-3a25-41c0-ec3f-fc51d0d64c65"
      },
      "source": [
        "np.__version__\n"
      ],
      "execution_count": null,
      "outputs": [
        {
          "output_type": "execute_result",
          "data": {
            "application/vnd.google.colaboratory.intrinsic+json": {
              "type": "string"
            },
            "text/plain": [
              "'1.19.5'"
            ]
          },
          "metadata": {
            "tags": []
          },
          "execution_count": 6
        }
      ]
    },
    {
      "cell_type": "code",
      "metadata": {
        "id": "nGveym2J2pXv"
      },
      "source": [
        "def onehotcylinder(cylinders):\n",
        "    if cylinders == 3:\n",
        "      cylinder = np.array([1,0,0,0,0])    #넘파이로 만듬 \n",
        "    elif cylinders == 4:\n",
        "      cylinder = np.array([0,1,0,0,0])\n",
        "    elif cylinders == 5:\n",
        "      cylinder = np.array([0,0,1,0,0])\n",
        "    elif cylinders == 6:\n",
        "      cylinder = np.array([0,0,0,1,0])\n",
        "    else : # 8\n",
        "      cylinder = np.array([0,0,0,0,1])\n",
        "    return cylinder"
      ],
      "execution_count": null,
      "outputs": []
    },
    {
      "cell_type": "code",
      "metadata": {
        "id": "hUJ_6CksWJdm"
      },
      "source": [
        "displacement = 307.0\n",
        "horsepower =130.0\n",
        "weight = 3504.0\n",
        "accel = 12.0\n",
        "cylinders = 8\n",
        "origin = 1 \n",
        "\n",
        "## if cylinders = 8, origin = 1   --> onehot encoding\n",
        "import numpy as np\n",
        "if cylinders == 3:\n",
        "  cylinder = np.array([1,0,0,0,0])    #넘파이로 만듬 \n",
        "elif cylinders == 4:\n",
        "  cylinder = np.array([0,1,0,0,0])\n",
        "elif cylinders == 5:\n",
        "  cylinder = np.array([0,0,1,0,0])\n",
        "elif cylinders == 6:\n",
        "  cylinder = np.array([0,0,0,1,0])\n",
        "else : # 8\n",
        "  cylinder = np.array([0,0,0,0,1])\n",
        "\n",
        "x_continus = np.array([displacement, horsepower, weight, accel])\n",
        "# cylinder = np.array([0,0,0,0,1])\n",
        "\n",
        "cylinder = np.array([0,0,0,0,1]) # 8\n",
        "org = np.array([1,0,0]) # 1"
      ],
      "execution_count": null,
      "outputs": []
    },
    {
      "cell_type": "code",
      "metadata": {
        "colab": {
          "base_uri": "https://localhost:8080/"
        },
        "id": "d-1IkR-wXUCa",
        "outputId": "23a4c159-a537-4580-b73e-d0fc0da22822"
      },
      "source": [
        "type(x_continus), type(cylinder), type(org)"
      ],
      "execution_count": null,
      "outputs": [
        {
          "output_type": "execute_result",
          "data": {
            "text/plain": [
              "(numpy.ndarray, numpy.ndarray, numpy.ndarray)"
            ]
          },
          "metadata": {
            "tags": []
          },
          "execution_count": 9
        }
      ]
    },
    {
      "cell_type": "code",
      "metadata": {
        "colab": {
          "base_uri": "https://localhost:8080/"
        },
        "id": "aCcToA9mXgYP",
        "outputId": "dc9cab29-c9e0-446d-f580-e2cf9c3c4bdb"
      },
      "source": [
        "# np.concatenate((a, b), axis=None)\n",
        "result = np.concatenate((x_continus,cylinder,org), axis=None)\n",
        "result.shape, result"
      ],
      "execution_count": null,
      "outputs": [
        {
          "output_type": "execute_result",
          "data": {
            "text/plain": [
              "((12,),\n",
              " array([3.070e+02, 1.300e+02, 3.504e+03, 1.200e+01, 0.000e+00, 0.000e+00,\n",
              "        0.000e+00, 0.000e+00, 1.000e+00, 1.000e+00, 0.000e+00, 0.000e+00]))"
            ]
          },
          "metadata": {
            "tags": []
          },
          "execution_count": 10
        }
      ]
    },
    {
      "cell_type": "code",
      "metadata": {
        "colab": {
          "base_uri": "https://localhost:8080/"
        },
        "id": "rY38GS9uZY6r",
        "outputId": "3806f356-32fc-4947-bad2-eeec406e7a4e"
      },
      "source": [
        "# [307.0,130.0, 3504.0, 12.0, 0,0,0,0,1]\n",
        "# result.reshape(1,12)\n",
        "result = result.reshape(-1, result.size)\n",
        "result, result.shape"
      ],
      "execution_count": null,
      "outputs": [
        {
          "output_type": "execute_result",
          "data": {
            "text/plain": [
              "(array([[3.070e+02, 1.300e+02, 3.504e+03, 1.200e+01, 0.000e+00, 0.000e+00,\n",
              "         0.000e+00, 0.000e+00, 1.000e+00, 1.000e+00, 0.000e+00, 0.000e+00]]),\n",
              " (1, 12))"
            ]
          },
          "metadata": {
            "tags": []
          },
          "execution_count": 11
        }
      ]
    },
    {
      "cell_type": "code",
      "metadata": {
        "colab": {
          "base_uri": "https://localhost:8080/"
        },
        "id": "7rPHguTgZ-FR",
        "outputId": "3107b37d-d032-4058-f38f-3fcf18544189"
      },
      "source": [
        "result"
      ],
      "execution_count": null,
      "outputs": [
        {
          "output_type": "execute_result",
          "data": {
            "text/plain": [
              "array([[3.070e+02, 1.300e+02, 3.504e+03, 1.200e+01, 0.000e+00, 0.000e+00,\n",
              "        0.000e+00, 0.000e+00, 1.000e+00, 1.000e+00, 0.000e+00, 0.000e+00]])"
            ]
          },
          "metadata": {
            "tags": []
          },
          "execution_count": 12
        }
      ]
    },
    {
      "cell_type": "markdown",
      "metadata": {
        "id": "GedQZwFUip60"
      },
      "source": [
        "# function 이해\n"
      ]
    },
    {
      "cell_type": "code",
      "metadata": {
        "colab": {
          "base_uri": "https://localhost:8080/"
        },
        "id": "hx6f1CylcsRt",
        "outputId": "acc8cd06-1dc2-4363-dae3-0374d128ee67"
      },
      "source": [
        "21 + 14"
      ],
      "execution_count": null,
      "outputs": [
        {
          "output_type": "execute_result",
          "data": {
            "text/plain": [
              "35"
            ]
          },
          "metadata": {
            "tags": []
          },
          "execution_count": 13
        }
      ]
    },
    {
      "cell_type": "code",
      "metadata": {
        "colab": {
          "base_uri": "https://localhost:8080/"
        },
        "id": "Y8WwpFA_i2p-",
        "outputId": "d510842c-4e1a-492f-d631-f70b921f997d"
      },
      "source": [
        "32 + 45"
      ],
      "execution_count": null,
      "outputs": [
        {
          "output_type": "execute_result",
          "data": {
            "text/plain": [
              "77"
            ]
          },
          "metadata": {
            "tags": []
          },
          "execution_count": 14
        }
      ]
    },
    {
      "cell_type": "code",
      "metadata": {
        "id": "EW3tCoddi53j"
      },
      "source": [
        "def sum():\n",
        "  first = 32\n",
        "  second = 45\n",
        "  result = first + second\n",
        "  result  \n",
        "  return result"
      ],
      "execution_count": null,
      "outputs": []
    },
    {
      "cell_type": "code",
      "metadata": {
        "colab": {
          "base_uri": "https://localhost:8080/"
        },
        "id": "8hjPcxEQjIrA",
        "outputId": "b0bc8769-ebf5-4bbe-a57b-f91ef3e96182"
      },
      "source": [
        "sum()"
      ],
      "execution_count": null,
      "outputs": [
        {
          "output_type": "execute_result",
          "data": {
            "text/plain": [
              "77"
            ]
          },
          "metadata": {
            "tags": []
          },
          "execution_count": 16
        }
      ]
    },
    {
      "cell_type": "code",
      "metadata": {
        "id": "y0kRpoxynLhb"
      },
      "source": [
        "f01 = 32\n",
        "s02 = 21\n",
        "def sum(f01, s02):    #파라메터 - 외부에서 호출할때 중요한거 순서 (이름은 중요하지 않음, 내부에서는 이름 중요) \n",
        "  first = s02\n",
        "  second = f01\n",
        "  result = first + second\n",
        "  result  \n",
        "  return result"
      ],
      "execution_count": null,
      "outputs": []
    },
    {
      "cell_type": "code",
      "metadata": {
        "colab": {
          "base_uri": "https://localhost:8080/"
        },
        "id": "Up4bpxlZpO2o",
        "outputId": "0f38985c-687c-4f37-a774-e3f8e8ea6910"
      },
      "source": [
        "sum(32,21), sum(3,2), sum(21,564)"
      ],
      "execution_count": null,
      "outputs": [
        {
          "output_type": "execute_result",
          "data": {
            "text/plain": [
              "(53, 5, 585)"
            ]
          },
          "metadata": {
            "tags": []
          },
          "execution_count": 18
        }
      ]
    },
    {
      "cell_type": "code",
      "metadata": {
        "colab": {
          "base_uri": "https://localhost:8080/"
        },
        "id": "PAk24RMKpqd6",
        "outputId": "58edb5ba-e91a-4c35-b51c-d3fa5afeb9b0"
      },
      "source": [
        "21 * 32 * 2\n"
      ],
      "execution_count": null,
      "outputs": [
        {
          "output_type": "execute_result",
          "data": {
            "text/plain": [
              "1344"
            ]
          },
          "metadata": {
            "tags": []
          },
          "execution_count": 19
        }
      ]
    },
    {
      "cell_type": "code",
      "metadata": {
        "colab": {
          "base_uri": "https://localhost:8080/"
        },
        "id": "FfRtywzXtVPG",
        "outputId": "e80a3cb7-1131-4c9b-a8e5-5d87b1cbf472"
      },
      "source": [
        "31 * 63 * 41"
      ],
      "execution_count": null,
      "outputs": [
        {
          "output_type": "execute_result",
          "data": {
            "text/plain": [
              "80073"
            ]
          },
          "metadata": {
            "tags": []
          },
          "execution_count": 20
        }
      ]
    },
    {
      "cell_type": "code",
      "metadata": {
        "id": "5ExmyV0WtZzJ"
      },
      "source": [
        "def tim(f01,f02,f03):\n",
        "  first = f01\n",
        "  second =f02\n",
        "  third = f03\n",
        "  result = first * second * third\n",
        "  return result"
      ],
      "execution_count": null,
      "outputs": []
    },
    {
      "cell_type": "code",
      "metadata": {
        "colab": {
          "base_uri": "https://localhost:8080/"
        },
        "id": "baTq88Vg5SvN",
        "outputId": "a02b1832-6033-4230-953a-bb91b3d49075"
      },
      "source": [
        "tim(21,32,2), tim(31,63,41)"
      ],
      "execution_count": null,
      "outputs": [
        {
          "output_type": "execute_result",
          "data": {
            "text/plain": [
              "(1344, 80073)"
            ]
          },
          "metadata": {
            "tags": []
          },
          "execution_count": 22
        }
      ]
    },
    {
      "cell_type": "code",
      "metadata": {
        "id": "R5OfyIjmvtp3"
      },
      "source": [
        "#def differencdVars(*var01, *args02)\n",
        "def diffparam(*var_list, **var_dict):\n",
        "  print(var_dict)\n",
        "  result01 = len(var_list)\n",
        "  return result01"
      ],
      "execution_count": null,
      "outputs": []
    },
    {
      "cell_type": "code",
      "metadata": {
        "colab": {
          "base_uri": "https://localhost:8080/"
        },
        "id": "LjXC-PH6yN1j",
        "outputId": "7f093315-ed64-48f5-f8cc-e81ac14f4ee8"
      },
      "source": [
        " diffparam(1,2,3, a=2, b=3)"
      ],
      "execution_count": null,
      "outputs": [
        {
          "output_type": "stream",
          "text": [
            "{'a': 2, 'b': 3}\n"
          ],
          "name": "stdout"
        },
        {
          "output_type": "execute_result",
          "data": {
            "text/plain": [
              "3"
            ]
          },
          "metadata": {
            "tags": []
          },
          "execution_count": 24
        }
      ]
    },
    {
      "cell_type": "code",
      "metadata": {
        "colab": {
          "base_uri": "https://localhost:8080/"
        },
        "id": "PAH4mC_Zztw9",
        "outputId": "1746b9d1-451b-4557-a563-2bcd8b1fae79"
      },
      "source": [
        " diffparam(1,2,3,5,6,  c=2, d=3, a=2, b=3)"
      ],
      "execution_count": null,
      "outputs": [
        {
          "output_type": "stream",
          "text": [
            "{'c': 2, 'd': 3, 'a': 2, 'b': 3}\n"
          ],
          "name": "stdout"
        },
        {
          "output_type": "execute_result",
          "data": {
            "text/plain": [
              "5"
            ]
          },
          "metadata": {
            "tags": []
          },
          "execution_count": 25
        }
      ]
    },
    {
      "cell_type": "code",
      "metadata": {
        "colab": {
          "base_uri": "https://localhost:8080/",
          "height": 135
        },
        "id": "LP4gISWUPJgj",
        "outputId": "081dbb21-0c21-4ae0-fd35-740dd9e9028c"
      },
      "source": [
        "def onehotorg(origin) :\n",
        "   if origin = 1:\n",
        "      org =[1, 0, 0]\n",
        "    elif origin = 2:\n",
        "      org =[0, 1, 0]\n",
        "    elif origin = 3:\n",
        "      org =[0, 0, 1]\n",
        "    return org"
      ],
      "execution_count": null,
      "outputs": [
        {
          "output_type": "error",
          "ename": "SyntaxError",
          "evalue": "ignored",
          "traceback": [
            "\u001b[0;36m  File \u001b[0;32m\"<ipython-input-40-10c611b84cd7>\"\u001b[0;36m, line \u001b[0;32m2\u001b[0m\n\u001b[0;31m    if origin = 1:\u001b[0m\n\u001b[0m              ^\u001b[0m\n\u001b[0;31mSyntaxError\u001b[0m\u001b[0;31m:\u001b[0m invalid syntax\n"
          ]
        }
      ]
    },
    {
      "cell_type": "code",
      "metadata": {
        "colab": {
          "base_uri": "https://localhost:8080/",
          "height": 170
        },
        "id": "920J-pBEQHTJ",
        "outputId": "6b754edf-b333-429e-9e32-f46b64689ff3"
      },
      "source": [
        "onehotorg(3)"
      ],
      "execution_count": null,
      "outputs": [
        {
          "output_type": "error",
          "ename": "NameError",
          "evalue": "ignored",
          "traceback": [
            "\u001b[0;31m---------------------------------------------------------------------------\u001b[0m",
            "\u001b[0;31mNameError\u001b[0m                                 Traceback (most recent call last)",
            "\u001b[0;32m<ipython-input-41-d3fd03679810>\u001b[0m in \u001b[0;36m<module>\u001b[0;34m()\u001b[0m\n\u001b[0;32m----> 1\u001b[0;31m \u001b[0monehotorg\u001b[0m\u001b[0;34m(\u001b[0m\u001b[0;36m3\u001b[0m\u001b[0;34m)\u001b[0m\u001b[0;34m\u001b[0m\u001b[0;34m\u001b[0m\u001b[0m\n\u001b[0m",
            "\u001b[0;31mNameError\u001b[0m: name 'onehotorg' is not defined"
          ]
        }
      ]
    },
    {
      "cell_type": "code",
      "metadata": {
        "id": "Ph-3Nf0LQUc3"
      },
      "source": [
        "    def cylinders(A_list, B_dict):\n",
        "      \n",
        "      print(A_list)\n",
        "      result01 = (B_dict)\n",
        "      result01 =len(A_list)\n",
        "      return result01  "
      ],
      "execution_count": null,
      "outputs": []
    },
    {
      "cell_type": "code",
      "metadata": {
        "id": "RXJZL5RO0DUA"
      },
      "source": [
        "df cylinders(3,4,5,6,8, ([1,0,0,0,0]=3,[0,1,0,0,0]=4))"
      ],
      "execution_count": null,
      "outputs": []
    },
    {
      "cell_type": "code",
      "metadata": {
        "id": "8dK4E0XbSgQc"
      },
      "source": [
        ""
      ],
      "execution_count": null,
      "outputs": []
    }
  ]
}